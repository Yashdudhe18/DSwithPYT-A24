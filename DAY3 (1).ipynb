{
 "cells": [
  {
   "cell_type": "code",
   "execution_count": 5,
   "id": "bd933d27",
   "metadata": {},
   "outputs": [],
   "source": [
    "x=\"ashish\""
   ]
  },
  {
   "cell_type": "code",
   "execution_count": 6,
   "id": "12da46d9",
   "metadata": {},
   "outputs": [],
   "source": [
    "y=\"a\""
   ]
  },
  {
   "cell_type": "code",
   "execution_count": 7,
   "id": "fda2fd8e",
   "metadata": {},
   "outputs": [
    {
     "name": "stdout",
     "output_type": "stream",
     "text": [
      "True\n"
     ]
    }
   ],
   "source": [
    "print(y  in x)"
   ]
  },
  {
   "cell_type": "code",
   "execution_count": 8,
   "id": "e0bfaa73",
   "metadata": {},
   "outputs": [
    {
     "name": "stdout",
     "output_type": "stream",
     "text": [
      "False\n"
     ]
    }
   ],
   "source": [
    "print(y not in x)"
   ]
  },
  {
   "cell_type": "code",
   "execution_count": null,
   "id": "36caca27",
   "metadata": {},
   "outputs": [],
   "source": []
  }
 ],
 "metadata": {
  "kernelspec": {
   "display_name": "Python 3 (ipykernel)",
   "language": "python",
   "name": "python3"
  },
  "language_info": {
   "codemirror_mode": {
    "name": "ipython",
    "version": 3
   },
   "file_extension": ".py",
   "mimetype": "text/x-python",
   "name": "python",
   "nbconvert_exporter": "python",
   "pygments_lexer": "ipython3",
   "version": "3.9.7"
  }
 },
 "nbformat": 4,
 "nbformat_minor": 5
}
